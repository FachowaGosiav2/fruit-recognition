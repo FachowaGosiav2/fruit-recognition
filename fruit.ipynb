{
 "cells": [
  {
   "cell_type": "code",
   "execution_count": 1,
   "metadata": {},
   "outputs": [],
   "source": [
    "import numpy as np\n",
    "import pandas as pd\n",
    "import os\n",
    "from matplotlib import pyplot as plt\n",
    "from import_train_test import Import_path_to_data\n",
    "import tensorflow as tf\n",
    "from keras.preprocessing.image import ImageDataGenerator"
   ]
  },
  {
   "cell_type": "code",
   "execution_count": 2,
   "metadata": {},
   "outputs": [],
   "source": [
    "train_path, test_path = Import_path_to_data.Import_train_test()"
   ]
  },
  {
   "cell_type": "code",
   "execution_count": 3,
   "metadata": {},
   "outputs": [],
   "source": [
    "datagen = ImageDataGenerator(\n",
    "    featurewise_center=True,\n",
    "    featurewise_std_normalization=True,\n",
    "    rotation_range=20,\n",
    "    width_shift_range=0.2,\n",
    "    height_shift_range=0.2,\n",
    "    horizontal_flip=True,\n",
    "    validation_split=0.2)"
   ]
  },
  {
   "cell_type": "code",
   "execution_count": 4,
   "metadata": {},
   "outputs": [],
   "source": [
    "def prep_data(data_path, is_train):\n",
    "    batch_size = 32\n",
    "    data = tf.keras.utils.image_dataset_from_directory(data_path, batch_size=batch_size, image_size=(100, 100), shuffle=True)\n",
    "    data.map(lambda x, y: (x / 255, y))\n",
    "    data.as_numpy_iterator().next()\n",
    "    if is_train == 1:\n",
    "        val_size = int(len(data)*.2)\n",
    "        train_size = int(len(data)*.8)\n",
    "        val_data = data.take(val_size)\n",
    "        train_data = data.skip(val_size).take(train_size)\n",
    "        return train_data, val_data\n",
    "    else:\n",
    "        return data"
   ]
  },
  {
   "cell_type": "code",
   "execution_count": 5,
   "metadata": {},
   "outputs": [
    {
     "name": "stdout",
     "output_type": "stream",
     "text": [
      "Found 67692 files belonging to 131 classes.\n",
      "Found 22688 files belonging to 131 classes.\n"
     ]
    }
   ],
   "source": [
    "train_data, val_data = prep_data(train_path, 1)\n",
    "test_data = prep_data(test_path, 0)"
   ]
  },
  {
   "cell_type": "code",
   "execution_count": 6,
   "metadata": {},
   "outputs": [],
   "source": [
    "from keras.layers import Conv2D, Dense, MaxPool2D, Flatten, Dropout, Input\n",
    "from keras import Sequential\n",
    "from keras.activations import relu, softmax\n",
    "from keras.optimizers import Adam\n",
    "from keras.losses import sparse_categorical_crossentropy\n",
    "from functools import partial\n",
    "from keras.callbacks import EarlyStopping, ModelCheckpoint"
   ]
  },
  {
   "cell_type": "code",
   "execution_count": 7,
   "metadata": {},
   "outputs": [],
   "source": [
    "tf.keras.backend.clear_session()\n",
    "tf.random.set_seed(42)"
   ]
  },
  {
   "cell_type": "code",
   "execution_count": 8,
   "metadata": {},
   "outputs": [],
   "source": [
    "model = Sequential([\n",
    "    Input((100, 100, 3)),\n",
    "    Conv2D(64, (3, 3), 1, activation=relu, padding='same'),\n",
    "    Conv2D(64, (3, 3), 1, activation=relu, padding='same'),\n",
    "    MaxPool2D((2, 2)),\n",
    "    Conv2D(128, (3, 3), 1, activation=relu, padding='same'),\n",
    "    Conv2D(128, (3, 3), 1, activation=relu, padding='same'),\n",
    "    MaxPool2D((2, 2)),\n",
    "    Conv2D(256, (3, 3), 1, activation=relu, padding='same'),\n",
    "    Conv2D(256, (3, 3), 1, activation=relu, padding='same'),\n",
    "    Conv2D(256, (3, 3), 1, activation=relu, padding='same'),\n",
    "    MaxPool2D((2, 2)),\n",
    "    Conv2D(512, (3, 3), 1, activation=relu, padding='same'),\n",
    "    Conv2D(512, (3, 3), 1, activation=relu, padding='same'),\n",
    "    Conv2D(512, (3, 3), 1, activation=relu, padding='same'),\n",
    "    MaxPool2D((2, 2)),\n",
    "    Flatten(),\n",
    "    Dense(units=4096, activation=relu),\n",
    "    Dense(units=4096, activation=relu),\n",
    "    Dense(units=131, activation=softmax)\n",
    "])"
   ]
  },
  {
   "cell_type": "code",
   "execution_count": 9,
   "metadata": {},
   "outputs": [
    {
     "name": "stdout",
     "output_type": "stream",
     "text": [
      "WARNING:tensorflow:EarlyStopping mode <built-in function min> is unknown, fallback to auto mode.\n",
      "WARNING:tensorflow:ModelCheckpoint mode <built-in function max> is unknown, fallback to auto mode.\n"
     ]
    }
   ],
   "source": [
    "es = EarlyStopping(\n",
    "    monitor=\"val_loss\",\n",
    "    patience=2,\n",
    "    mode=min,\n",
    "    restore_best_weights=True\n",
    ")\n",
    "\n",
    "mc = ModelCheckpoint(\n",
    "    'best_model',\n",
    "    monitor=\"val_loss\",\n",
    "    mode=max,\n",
    "    )"
   ]
  },
  {
   "cell_type": "code",
   "execution_count": 10,
   "metadata": {},
   "outputs": [],
   "source": [
    "model.compile(loss=sparse_categorical_crossentropy, optimizer=Adam(learning_rate=1e-4),\n",
    "              metrics=['accuracy'])\n",
    "history = model.fit(train_data, epochs=10,\n",
    "                    validation_data=(val_data),\n",
    "                    callbacks=[es, mc])\n",
    "score = model.evaluate(test_data)"
   ]
  }
 ],
 "metadata": {
  "kernelspec": {
   "display_name": "tf",
   "language": "python",
   "name": "python3"
  },
  "language_info": {
   "codemirror_mode": {
    "name": "ipython",
    "version": 3
   },
   "file_extension": ".py",
   "mimetype": "text/x-python",
   "name": "python",
   "nbconvert_exporter": "python",
   "pygments_lexer": "ipython3",
   "version": "3.9.17"
  },
  "orig_nbformat": 4
 },
 "nbformat": 4,
 "nbformat_minor": 2
}
