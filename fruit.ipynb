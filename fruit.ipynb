{
 "cells": [
  {
   "cell_type": "code",
   "execution_count": 1,
   "metadata": {},
   "outputs": [],
   "source": [
    "import numpy as np\n",
    "import pandas as pd\n",
    "import os\n",
    "from matplotlib import pyplot as plt\n",
    "from import_train_test import Import_path_to_data\n",
    "import tensorflow as tf\n",
    "from keras.preprocessing.image import ImageDataGenerator"
   ]
  },
  {
   "cell_type": "code",
   "execution_count": 2,
   "metadata": {},
   "outputs": [],
   "source": [
    "train_path, test_path = Import_path_to_data.Import_train_test()"
   ]
  },
  {
   "cell_type": "code",
   "execution_count": 3,
   "metadata": {},
   "outputs": [],
   "source": [
    "def prep_data(data_path, is_train):\n",
    "    batch_size = 64\n",
    "    if is_train == 1:\n",
    "        train_data, val_data = tf.keras.utils.image_dataset_from_directory(data_path, batch_size=batch_size, image_size=(100, 100), validation_split=0.1, subset=\"both\",\n",
    "                                                                            shuffle=True, seed=42)\n",
    "        return train_data, val_data\n",
    "    else:\n",
    "        test_data = tf.keras.utils.image_dataset_from_directory(data_path, batch_size=batch_size, image_size=(100, 100),\n",
    "                                                                            shuffle=True, seed=42)\n",
    "        return test_data"
   ]
  },
  {
   "cell_type": "code",
   "execution_count": 4,
   "metadata": {},
   "outputs": [
    {
     "name": "stdout",
     "output_type": "stream",
     "text": [
      "Found 67692 files belonging to 131 classes.\n",
      "Using 60923 files for training.\n",
      "Using 6769 files for validation.\n",
      "Found 22688 files belonging to 131 classes.\n"
     ]
    }
   ],
   "source": [
    "train_data, val_data = prep_data(train_path, 1)\n",
    "test_data = prep_data(test_path, 0)"
   ]
  },
  {
   "cell_type": "code",
   "execution_count": 5,
   "metadata": {},
   "outputs": [],
   "source": [
    "from keras.layers import Conv2D, Dense, MaxPool2D, Flatten, Dropout, Input, Rescaling\n",
    "from keras import Sequential\n",
    "from keras.activations import relu, softmax\n",
    "from keras.optimizers import Adam\n",
    "from keras.losses import sparse_categorical_crossentropy\n",
    "from functools import partial\n",
    "from keras.callbacks import EarlyStopping, ModelCheckpoint"
   ]
  },
  {
   "cell_type": "code",
   "execution_count": 6,
   "metadata": {},
   "outputs": [],
   "source": [
    "tf.keras.backend.clear_session()\n",
    "tf.random.set_seed(42)"
   ]
  },
  {
   "cell_type": "code",
   "execution_count": 7,
   "metadata": {},
   "outputs": [],
   "source": [
    "model = Sequential([\n",
    "    Rescaling(1./255),\n",
    "    Conv2D(64, (2, 2), 1, activation=relu, padding='same'),\n",
    "    Conv2D(64, (3, 3), 1, activation=relu, padding='same'),\n",
    "    Conv2D(64, (3, 3), 1, activation=relu, padding='same'),\n",
    "    MaxPool2D((2, 2)),\n",
    "    Conv2D(128, (3, 3), 1, activation=relu, padding='same'),\n",
    "    Conv2D(128, (3, 3), 1, activation=relu, padding='same'),\n",
    "    Conv2D(128, (3, 3), 1, activation=relu, padding='same'),\n",
    "    MaxPool2D((2, 2)),\n",
    "    Conv2D(256, (3, 3), 1, activation=relu, padding='same'),\n",
    "    Conv2D(256, (3, 3), 1, activation=relu, padding='same'),\n",
    "    Conv2D(256, (3, 3), 1, activation=relu, padding='same'),\n",
    "    MaxPool2D((2, 2)),\n",
    "    Conv2D(512, (3, 3), 1, activation=relu, padding='same'),\n",
    "    Conv2D(512, (3, 3), 1, activation=relu, padding='same'),\n",
    "    Conv2D(512, (3, 3), 1, activation=relu, padding='same'),\n",
    "    MaxPool2D((2, 2)),\n",
    "    Flatten(),\n",
    "    Dense(units=4096, activation=relu),\n",
    "    Dense(units=4096, activation=relu),\n",
    "    Dense(units=131, activation=softmax)\n",
    "])"
   ]
  },
  {
   "cell_type": "code",
   "execution_count": 8,
   "metadata": {},
   "outputs": [
    {
     "name": "stdout",
     "output_type": "stream",
     "text": [
      "WARNING:tensorflow:EarlyStopping mode <built-in function min> is unknown, fallback to auto mode.\n",
      "WARNING:tensorflow:ModelCheckpoint mode <built-in function max> is unknown, fallback to auto mode.\n"
     ]
    }
   ],
   "source": [
    "es = EarlyStopping(\n",
    "    monitor=\"val_loss\",\n",
    "    patience=2,\n",
    "    mode=min,\n",
    "    restore_best_weights=True\n",
    ")\n",
    "\n",
    "mc = ModelCheckpoint(\n",
    "    'best_model',\n",
    "    monitor=\"val_loss\",\n",
    "    mode=max,\n",
    "    )"
   ]
  },
  {
   "cell_type": "code",
   "execution_count": 9,
   "metadata": {},
   "outputs": [
    {
     "name": "stdout",
     "output_type": "stream",
     "text": [
      "Epoch 1/10\n"
     ]
    },
    {
     "name": "stdout",
     "output_type": "stream",
     "text": [
      "952/952 [==============================] - ETA: 0s - loss: 1.2654 - accuracy: 0.6945"
     ]
    },
    {
     "name": "stderr",
     "output_type": "stream",
     "text": [
      "WARNING:absl:Found untraced functions such as _jit_compiled_convolution_op, _jit_compiled_convolution_op, _jit_compiled_convolution_op, _jit_compiled_convolution_op, _jit_compiled_convolution_op while saving (showing 5 of 12). These functions will not be directly callable after loading.\n"
     ]
    },
    {
     "name": "stdout",
     "output_type": "stream",
     "text": [
      "INFO:tensorflow:Assets written to: best_model\\assets\n"
     ]
    },
    {
     "name": "stderr",
     "output_type": "stream",
     "text": [
      "INFO:tensorflow:Assets written to: best_model\\assets\n"
     ]
    },
    {
     "name": "stdout",
     "output_type": "stream",
     "text": [
      "952/952 [==============================] - 156s 159ms/step - loss: 1.2654 - accuracy: 0.6945 - val_loss: 0.1935 - val_accuracy: 0.9388\n",
      "Epoch 2/10\n",
      "952/952 [==============================] - ETA: 0s - loss: 0.0954 - accuracy: 0.9738"
     ]
    },
    {
     "name": "stderr",
     "output_type": "stream",
     "text": [
      "WARNING:absl:Found untraced functions such as _jit_compiled_convolution_op, _jit_compiled_convolution_op, _jit_compiled_convolution_op, _jit_compiled_convolution_op, _jit_compiled_convolution_op while saving (showing 5 of 12). These functions will not be directly callable after loading.\n"
     ]
    },
    {
     "name": "stdout",
     "output_type": "stream",
     "text": [
      "INFO:tensorflow:Assets written to: best_model\\assets\n"
     ]
    },
    {
     "name": "stderr",
     "output_type": "stream",
     "text": [
      "INFO:tensorflow:Assets written to: best_model\\assets\n"
     ]
    },
    {
     "name": "stdout",
     "output_type": "stream",
     "text": [
      "952/952 [==============================] - 149s 157ms/step - loss: 0.0954 - accuracy: 0.9738 - val_loss: 0.0356 - val_accuracy: 0.9889\n",
      "Epoch 3/10\n",
      "952/952 [==============================] - ETA: 0s - loss: 0.0493 - accuracy: 0.9866"
     ]
    },
    {
     "name": "stderr",
     "output_type": "stream",
     "text": [
      "WARNING:absl:Found untraced functions such as _jit_compiled_convolution_op, _jit_compiled_convolution_op, _jit_compiled_convolution_op, _jit_compiled_convolution_op, _jit_compiled_convolution_op while saving (showing 5 of 12). These functions will not be directly callable after loading.\n"
     ]
    },
    {
     "name": "stdout",
     "output_type": "stream",
     "text": [
      "INFO:tensorflow:Assets written to: best_model\\assets\n"
     ]
    },
    {
     "name": "stderr",
     "output_type": "stream",
     "text": [
      "INFO:tensorflow:Assets written to: best_model\\assets\n"
     ]
    },
    {
     "name": "stdout",
     "output_type": "stream",
     "text": [
      "952/952 [==============================] - 151s 159ms/step - loss: 0.0493 - accuracy: 0.9866 - val_loss: 0.0347 - val_accuracy: 0.9904\n",
      "Epoch 4/10\n",
      "952/952 [==============================] - ETA: 0s - loss: 0.0364 - accuracy: 0.9917"
     ]
    },
    {
     "name": "stderr",
     "output_type": "stream",
     "text": [
      "WARNING:absl:Found untraced functions such as _jit_compiled_convolution_op, _jit_compiled_convolution_op, _jit_compiled_convolution_op, _jit_compiled_convolution_op, _jit_compiled_convolution_op while saving (showing 5 of 12). These functions will not be directly callable after loading.\n"
     ]
    },
    {
     "name": "stdout",
     "output_type": "stream",
     "text": [
      "INFO:tensorflow:Assets written to: best_model\\assets\n"
     ]
    },
    {
     "name": "stderr",
     "output_type": "stream",
     "text": [
      "INFO:tensorflow:Assets written to: best_model\\assets\n"
     ]
    },
    {
     "name": "stdout",
     "output_type": "stream",
     "text": [
      "952/952 [==============================] - 151s 158ms/step - loss: 0.0364 - accuracy: 0.9917 - val_loss: 0.0653 - val_accuracy: 0.9837\n",
      "Epoch 5/10\n",
      "952/952 [==============================] - ETA: 0s - loss: 0.0251 - accuracy: 0.9942"
     ]
    },
    {
     "name": "stderr",
     "output_type": "stream",
     "text": [
      "WARNING:absl:Found untraced functions such as _jit_compiled_convolution_op, _jit_compiled_convolution_op, _jit_compiled_convolution_op, _jit_compiled_convolution_op, _jit_compiled_convolution_op while saving (showing 5 of 12). These functions will not be directly callable after loading.\n"
     ]
    },
    {
     "name": "stdout",
     "output_type": "stream",
     "text": [
      "INFO:tensorflow:Assets written to: best_model\\assets\n"
     ]
    },
    {
     "name": "stderr",
     "output_type": "stream",
     "text": [
      "INFO:tensorflow:Assets written to: best_model\\assets\n"
     ]
    },
    {
     "name": "stdout",
     "output_type": "stream",
     "text": [
      "952/952 [==============================] - 152s 160ms/step - loss: 0.0251 - accuracy: 0.9942 - val_loss: 0.0053 - val_accuracy: 0.9996\n",
      "Epoch 6/10\n",
      "952/952 [==============================] - ETA: 0s - loss: 0.0311 - accuracy: 0.9926"
     ]
    },
    {
     "name": "stderr",
     "output_type": "stream",
     "text": [
      "WARNING:absl:Found untraced functions such as _jit_compiled_convolution_op, _jit_compiled_convolution_op, _jit_compiled_convolution_op, _jit_compiled_convolution_op, _jit_compiled_convolution_op while saving (showing 5 of 12). These functions will not be directly callable after loading.\n"
     ]
    },
    {
     "name": "stdout",
     "output_type": "stream",
     "text": [
      "INFO:tensorflow:Assets written to: best_model\\assets\n"
     ]
    },
    {
     "name": "stderr",
     "output_type": "stream",
     "text": [
      "INFO:tensorflow:Assets written to: best_model\\assets\n"
     ]
    },
    {
     "name": "stdout",
     "output_type": "stream",
     "text": [
      "952/952 [==============================] - 150s 158ms/step - loss: 0.0311 - accuracy: 0.9926 - val_loss: 0.0256 - val_accuracy: 0.9936\n",
      "Epoch 7/10\n",
      "952/952 [==============================] - ETA: 0s - loss: 0.0025 - accuracy: 0.9996"
     ]
    },
    {
     "name": "stderr",
     "output_type": "stream",
     "text": [
      "WARNING:absl:Found untraced functions such as _jit_compiled_convolution_op, _jit_compiled_convolution_op, _jit_compiled_convolution_op, _jit_compiled_convolution_op, _jit_compiled_convolution_op while saving (showing 5 of 12). These functions will not be directly callable after loading.\n"
     ]
    },
    {
     "name": "stdout",
     "output_type": "stream",
     "text": [
      "INFO:tensorflow:Assets written to: best_model\\assets\n"
     ]
    },
    {
     "name": "stderr",
     "output_type": "stream",
     "text": [
      "INFO:tensorflow:Assets written to: best_model\\assets\n"
     ]
    },
    {
     "name": "stdout",
     "output_type": "stream",
     "text": [
      "952/952 [==============================] - 153s 160ms/step - loss: 0.0025 - accuracy: 0.9996 - val_loss: 0.0037 - val_accuracy: 0.9999\n",
      "Epoch 8/10\n",
      "952/952 [==============================] - ETA: 0s - loss: 0.0312 - accuracy: 0.9939"
     ]
    },
    {
     "name": "stderr",
     "output_type": "stream",
     "text": [
      "WARNING:absl:Found untraced functions such as _jit_compiled_convolution_op, _jit_compiled_convolution_op, _jit_compiled_convolution_op, _jit_compiled_convolution_op, _jit_compiled_convolution_op while saving (showing 5 of 12). These functions will not be directly callable after loading.\n"
     ]
    },
    {
     "name": "stdout",
     "output_type": "stream",
     "text": [
      "INFO:tensorflow:Assets written to: best_model\\assets\n"
     ]
    },
    {
     "name": "stderr",
     "output_type": "stream",
     "text": [
      "INFO:tensorflow:Assets written to: best_model\\assets\n"
     ]
    },
    {
     "name": "stdout",
     "output_type": "stream",
     "text": [
      "952/952 [==============================] - 149s 157ms/step - loss: 0.0312 - accuracy: 0.9939 - val_loss: 0.0052 - val_accuracy: 0.9996\n",
      "Epoch 9/10\n",
      "952/952 [==============================] - ETA: 0s - loss: 0.0195 - accuracy: 0.9948"
     ]
    },
    {
     "name": "stderr",
     "output_type": "stream",
     "text": [
      "WARNING:absl:Found untraced functions such as _jit_compiled_convolution_op, _jit_compiled_convolution_op, _jit_compiled_convolution_op, _jit_compiled_convolution_op, _jit_compiled_convolution_op while saving (showing 5 of 12). These functions will not be directly callable after loading.\n"
     ]
    },
    {
     "name": "stdout",
     "output_type": "stream",
     "text": [
      "INFO:tensorflow:Assets written to: best_model\\assets\n"
     ]
    },
    {
     "name": "stderr",
     "output_type": "stream",
     "text": [
      "INFO:tensorflow:Assets written to: best_model\\assets\n"
     ]
    },
    {
     "name": "stdout",
     "output_type": "stream",
     "text": [
      "952/952 [==============================] - 149s 156ms/step - loss: 0.0195 - accuracy: 0.9948 - val_loss: 0.0235 - val_accuracy: 0.9938\n",
      "355/355 [==============================] - 16s 45ms/step - loss: 0.3082 - accuracy: 0.9382\n"
     ]
    }
   ],
   "source": [
    "model.compile(loss=sparse_categorical_crossentropy, optimizer=Adam(learning_rate=1e-5),\n",
    "              metrics=['accuracy'])\n",
    "history = model.fit(train_data, epochs=10,\n",
    "                    validation_data=(val_data),\n",
    "                    callbacks=[es, mc])\n",
    "score = model.evaluate(test_data)"
   ]
  }
 ],
 "metadata": {
  "kernelspec": {
   "display_name": "tf",
   "language": "python",
   "name": "python3"
  },
  "language_info": {
   "codemirror_mode": {
    "name": "ipython",
    "version": 3
   },
   "file_extension": ".py",
   "mimetype": "text/x-python",
   "name": "python",
   "nbconvert_exporter": "python",
   "pygments_lexer": "ipython3",
   "version": "3.9.17"
  },
  "orig_nbformat": 4
 },
 "nbformat": 4,
 "nbformat_minor": 2
}
