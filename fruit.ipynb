{
 "cells": [
  {
   "cell_type": "code",
   "execution_count": 1,
   "metadata": {},
   "outputs": [],
   "source": [
    "import numpy as np\n",
    "import pandas as pd\n",
    "import os\n",
    "from matplotlib import pyplot as plt\n",
    "from import_train_test import Import_path_to_data\n",
    "import tensorflow as tf\n",
    "from keras.preprocessing.image import ImageDataGenerator"
   ]
  },
  {
   "cell_type": "code",
   "execution_count": 2,
   "metadata": {},
   "outputs": [],
   "source": [
    "train_path, test_path = Import_path_to_data.Import_train_test()"
   ]
  },
  {
   "cell_type": "code",
   "execution_count": 3,
   "metadata": {},
   "outputs": [],
   "source": [
    "datagen = ImageDataGenerator(\n",
    "    featurewise_center=True,\n",
    "    featurewise_std_normalization=True,\n",
    "    rotation_range=20,\n",
    "    width_shift_range=0.2,\n",
    "    height_shift_range=0.2,\n",
    "    horizontal_flip=True,\n",
    "    validation_split=0.2)"
   ]
  },
  {
   "cell_type": "code",
   "execution_count": 4,
   "metadata": {},
   "outputs": [],
   "source": [
    "def prep_data(data_path, is_train):\n",
    "    batch_size = 32\n",
    "    data = tf.keras.utils.image_dataset_from_directory(data_path, batch_size=batch_size, image_size=(100, 100), shuffle=True)\n",
    "    data.map(lambda x, y: (x / 255, y))\n",
    "    data.as_numpy_iterator().next()\n",
    "    if is_train == 1:\n",
    "        val_size = int(len(data)*.2)\n",
    "        train_size = int(len(data)*.8)\n",
    "        val_data = data.take(val_size)\n",
    "        train_data = data.skip(val_size).take(train_size)\n",
    "        return train_data, val_data\n",
    "    else:\n",
    "        return data"
   ]
  },
  {
   "cell_type": "code",
   "execution_count": 5,
   "metadata": {},
   "outputs": [
    {
     "name": "stdout",
     "output_type": "stream",
     "text": [
      "Found 67692 files belonging to 131 classes.\n",
      "Found 22688 files belonging to 131 classes.\n"
     ]
    }
   ],
   "source": [
    "train_data, val_data = prep_data(train_path, 1)\n",
    "test_data = prep_data(test_path, 0)"
   ]
  },
  {
   "cell_type": "code",
   "execution_count": 6,
   "metadata": {},
   "outputs": [],
   "source": [
    "from keras.layers import Conv2D, Dense, MaxPool2D, Flatten, Dropout, Input\n",
    "from keras import Sequential\n",
    "from keras.activations import relu, softmax\n",
    "from keras.optimizers import Adam\n",
    "from keras.losses import sparse_categorical_crossentropy\n",
    "from functools import partial\n",
    "from keras.callbacks import EarlyStopping, ModelCheckpoint"
   ]
  },
  {
   "cell_type": "code",
   "execution_count": 7,
   "metadata": {},
   "outputs": [],
   "source": [
    "tf.keras.backend.clear_session()\n",
    "tf.random.set_seed(42)"
   ]
  },
  {
   "cell_type": "code",
   "execution_count": 8,
   "metadata": {},
   "outputs": [],
   "source": [
    "model = Sequential([\n",
    "    Input((100, 100, 3)),\n",
    "    Conv2D(64, (3, 3), 1, activation=relu, padding='same'),\n",
    "    Conv2D(64, (3, 3), 1, activation=relu, padding='same'),\n",
    "    MaxPool2D((2, 2)),\n",
    "    Conv2D(128, (3, 3), 1, activation=relu, padding='same'),\n",
    "    Conv2D(128, (3, 3), 1, activation=relu, padding='same'),\n",
    "    MaxPool2D((2, 2)),\n",
    "    Conv2D(256, (3, 3), 1, activation=relu, padding='same'),\n",
    "    Conv2D(256, (3, 3), 1, activation=relu, padding='same'),\n",
    "    Conv2D(256, (3, 3), 1, activation=relu, padding='same'),\n",
    "    MaxPool2D((2, 2)),\n",
    "    Conv2D(512, (3, 3), 1, activation=relu, padding='same'),\n",
    "    Conv2D(512, (3, 3), 1, activation=relu, padding='same'),\n",
    "    Conv2D(512, (3, 3), 1, activation=relu, padding='same'),\n",
    "    MaxPool2D((2, 2)),\n",
    "    Flatten(),\n",
    "    Dense(units=4096, activation=relu),\n",
    "    Dense(units=4096, activation=relu),\n",
    "    Dense(units=131, activation=softmax)\n",
    "])"
   ]
  },
  {
   "cell_type": "code",
   "execution_count": 9,
   "metadata": {},
   "outputs": [
    {
     "name": "stdout",
     "output_type": "stream",
     "text": [
      "WARNING:tensorflow:EarlyStopping mode <built-in function min> is unknown, fallback to auto mode.\n",
      "WARNING:tensorflow:ModelCheckpoint mode <built-in function max> is unknown, fallback to auto mode.\n"
     ]
    }
   ],
   "source": [
    "es = EarlyStopping(\n",
    "    monitor=\"val_loss\",\n",
    "    patience=2,\n",
    "    mode=min,\n",
    "    restore_best_weights=True\n",
    ")\n",
    "\n",
    "mc = ModelCheckpoint(\n",
    "    'best_model',\n",
    "    monitor=\"val_loss\",\n",
    "    mode=max,\n",
    "    )"
   ]
  },
  {
   "cell_type": "code",
   "execution_count": 10,
   "metadata": {},
   "outputs": [
    {
     "name": "stdout",
     "output_type": "stream",
     "text": [
      "Epoch 1/10\n",
      "1692/1692 [==============================] - ETA: 0s - loss: 0.4657 - accuracy: 0.8797"
     ]
    },
    {
     "name": "stderr",
     "output_type": "stream",
     "text": [
      "WARNING:absl:Found untraced functions such as _jit_compiled_convolution_op, _jit_compiled_convolution_op, _jit_compiled_convolution_op, _jit_compiled_convolution_op, _jit_compiled_convolution_op while saving (showing 5 of 10). These functions will not be directly callable after loading.\n"
     ]
    },
    {
     "name": "stdout",
     "output_type": "stream",
     "text": [
      "INFO:tensorflow:Assets written to: best_model\\assets\n"
     ]
    },
    {
     "name": "stderr",
     "output_type": "stream",
     "text": [
      "INFO:tensorflow:Assets written to: best_model\\assets\n"
     ]
    },
    {
     "name": "stdout",
     "output_type": "stream",
     "text": [
      "1692/1692 [==============================] - 133s 76ms/step - loss: 0.4657 - accuracy: 0.8797 - val_loss: 0.1626 - val_accuracy: 0.9484\n",
      "Epoch 2/10\n",
      "1692/1692 [==============================] - ETA: 0s - loss: 0.0674 - accuracy: 0.9815"
     ]
    },
    {
     "name": "stderr",
     "output_type": "stream",
     "text": [
      "WARNING:absl:Found untraced functions such as _jit_compiled_convolution_op, _jit_compiled_convolution_op, _jit_compiled_convolution_op, _jit_compiled_convolution_op, _jit_compiled_convolution_op while saving (showing 5 of 10). These functions will not be directly callable after loading.\n"
     ]
    },
    {
     "name": "stdout",
     "output_type": "stream",
     "text": [
      "INFO:tensorflow:Assets written to: best_model\\assets\n"
     ]
    },
    {
     "name": "stderr",
     "output_type": "stream",
     "text": [
      "INFO:tensorflow:Assets written to: best_model\\assets\n"
     ]
    },
    {
     "name": "stdout",
     "output_type": "stream",
     "text": [
      "1692/1692 [==============================] - 127s 74ms/step - loss: 0.0674 - accuracy: 0.9815 - val_loss: 0.0524 - val_accuracy: 0.9806\n",
      "Epoch 3/10\n",
      "1692/1692 [==============================] - ETA: 0s - loss: 0.0444 - accuracy: 0.9895"
     ]
    },
    {
     "name": "stderr",
     "output_type": "stream",
     "text": [
      "WARNING:absl:Found untraced functions such as _jit_compiled_convolution_op, _jit_compiled_convolution_op, _jit_compiled_convolution_op, _jit_compiled_convolution_op, _jit_compiled_convolution_op while saving (showing 5 of 10). These functions will not be directly callable after loading.\n"
     ]
    },
    {
     "name": "stdout",
     "output_type": "stream",
     "text": [
      "INFO:tensorflow:Assets written to: best_model\\assets\n"
     ]
    },
    {
     "name": "stderr",
     "output_type": "stream",
     "text": [
      "INFO:tensorflow:Assets written to: best_model\\assets\n"
     ]
    },
    {
     "name": "stdout",
     "output_type": "stream",
     "text": [
      "1692/1692 [==============================] - 130s 76ms/step - loss: 0.0444 - accuracy: 0.9895 - val_loss: 3.4164e-04 - val_accuracy: 1.0000\n",
      "Epoch 4/10\n",
      "1692/1692 [==============================] - ETA: 0s - loss: 0.0403 - accuracy: 0.9897"
     ]
    },
    {
     "name": "stderr",
     "output_type": "stream",
     "text": [
      "WARNING:absl:Found untraced functions such as _jit_compiled_convolution_op, _jit_compiled_convolution_op, _jit_compiled_convolution_op, _jit_compiled_convolution_op, _jit_compiled_convolution_op while saving (showing 5 of 10). These functions will not be directly callable after loading.\n"
     ]
    },
    {
     "name": "stdout",
     "output_type": "stream",
     "text": [
      "INFO:tensorflow:Assets written to: best_model\\assets\n"
     ]
    },
    {
     "name": "stderr",
     "output_type": "stream",
     "text": [
      "INFO:tensorflow:Assets written to: best_model\\assets\n"
     ]
    },
    {
     "name": "stdout",
     "output_type": "stream",
     "text": [
      "1692/1692 [==============================] - 131s 76ms/step - loss: 0.0403 - accuracy: 0.9897 - val_loss: 0.1544 - val_accuracy: 0.9741\n",
      "Epoch 5/10\n",
      "1692/1692 [==============================] - ETA: 0s - loss: 0.0213 - accuracy: 0.9950"
     ]
    },
    {
     "name": "stderr",
     "output_type": "stream",
     "text": [
      "WARNING:absl:Found untraced functions such as _jit_compiled_convolution_op, _jit_compiled_convolution_op, _jit_compiled_convolution_op, _jit_compiled_convolution_op, _jit_compiled_convolution_op while saving (showing 5 of 10). These functions will not be directly callable after loading.\n"
     ]
    },
    {
     "name": "stdout",
     "output_type": "stream",
     "text": [
      "INFO:tensorflow:Assets written to: best_model\\assets\n"
     ]
    },
    {
     "name": "stderr",
     "output_type": "stream",
     "text": [
      "INFO:tensorflow:Assets written to: best_model\\assets\n"
     ]
    },
    {
     "name": "stdout",
     "output_type": "stream",
     "text": [
      "1692/1692 [==============================] - 131s 76ms/step - loss: 0.0213 - accuracy: 0.9950 - val_loss: 0.0040 - val_accuracy: 0.9984\n",
      "709/709 [==============================] - 15s 21ms/step - loss: 0.1179 - accuracy: 0.9740\n"
     ]
    }
   ],
   "source": [
    "model.compile(loss=sparse_categorical_crossentropy, optimizer=Adam(learning_rate=1e-4),\n",
    "              metrics=['accuracy'])\n",
    "history = model.fit(train_data, epochs=10,\n",
    "                    validation_data=(val_data),\n",
    "                    callbacks=[es, mc])\n",
    "score = model.evaluate(test_data)"
   ]
  }
 ],
 "metadata": {
  "kernelspec": {
   "display_name": "tf",
   "language": "python",
   "name": "python3"
  },
  "language_info": {
   "codemirror_mode": {
    "name": "ipython",
    "version": 3
   },
   "file_extension": ".py",
   "mimetype": "text/x-python",
   "name": "python",
   "nbconvert_exporter": "python",
   "pygments_lexer": "ipython3",
   "version": "3.9.17"
  },
  "orig_nbformat": 4
 },
 "nbformat": 4,
 "nbformat_minor": 2
}
